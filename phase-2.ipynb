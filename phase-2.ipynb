{
 "cells": [
  {
   "cell_type": "markdown",
   "id": "4aa7b3e0",
   "metadata": {},
   "source": [
    "****numpy array operations****"
   ]
  },
  {
   "cell_type": "code",
   "execution_count": 5,
   "id": "68ad042b",
   "metadata": {},
   "outputs": [],
   "source": [
    "import numpy as np"
   ]
  },
  {
   "cell_type": "code",
   "execution_count": null,
   "id": "f341f748",
   "metadata": {},
   "outputs": [
    {
     "name": "stdout",
     "output_type": "stream",
     "text": [
      "[ 0  1  2  3  4  5  6  7  8  9 10 11]\n",
      "Basic Slicing:  [2 3 4 5]\n",
      "with step : [1 3 5 7]\n",
      "negative indexing : 5\n"
     ]
    }
   ],
   "source": [
    "arr =np.arange(12)\n",
    "print(arr)\n",
    "print(\"Basic Slicing: \",arr[2:6])\n",
    "print(\"with step :\" , arr[1:8:2])\n",
    "print(\"negative indexing :\" ,arr[-7])\n",
    "print()"
   ]
  },
  {
   "cell_type": "code",
   "execution_count": null,
   "id": "a3575ec6",
   "metadata": {},
   "outputs": [
    {
     "name": "stdout",
     "output_type": "stream",
     "text": [
      "[[1 3 5]\n",
      " [8 4 3]\n",
      " [5 8 2]]\n",
      "elements : 8\n"
     ]
    }
   ],
   "source": [
    "arr_2d = np.array([[1,3,5],\n",
    "                   [8,4,3],\n",
    "                   [5,8,2]])\n",
    "print(arr_2d)\n",
    "print(\"elements :\", arr_2d[2,1])//2nd row ka 1st column\n"
   ]
  },
  {
   "cell_type": "markdown",
   "id": "d8a0e626",
   "metadata": {},
   "source": [
    "***Sorting***"
   ]
  },
  {
   "cell_type": "code",
   "execution_count": null,
   "id": "c75b82c3",
   "metadata": {},
   "outputs": [
    {
     "name": "stdout",
     "output_type": "stream",
     "text": [
      "sorted array : [1 2 3 4 5 5 5 6 9]\n",
      "sorted 2d_array by column : [[1 1 2]\n",
      " [2 3 5]\n",
      " [7 5 7]]\n",
      "sorted 2d_array by row : [[1 3 5]\n",
      " [2 5 7]\n",
      " [1 2 7]]\n"
     ]
    }
   ],
   "source": [
    "unsorted = np.array([5, 2,3,5,4, 9, 1, 5, 6])\n",
    "print(\"sorted array :\" , np.sort(unsorted))\n",
    "\n",
    "\n",
    "arr_2d = np.array([[1,3,5],[2,5,7],[7,1,2]])\n",
    "print(\"sorted 2d_array by column :\", np.sort(arr_2d , axis=0))//sort by column\n",
    "print(\"sorted 2d_array by row :\", np.sort(arr_2d , axis=1)) //sort by row"
   ]
  },
  {
   "cell_type": "markdown",
   "id": "58e66322",
   "metadata": {},
   "source": [
    "***Fancy indexing vs np.where()***"
   ]
  },
  {
   "cell_type": "code",
   "execution_count": null,
   "id": "23ff759c",
   "metadata": {},
   "outputs": [],
   "source": []
  }
 ],
 "metadata": {
  "kernelspec": {
   "display_name": "venv",
   "language": "python",
   "name": "python3"
  },
  "language_info": {
   "codemirror_mode": {
    "name": "ipython",
    "version": 3
   },
   "file_extension": ".py",
   "mimetype": "text/x-python",
   "name": "python",
   "nbconvert_exporter": "python",
   "pygments_lexer": "ipython3",
   "version": "3.13.5"
  }
 },
 "nbformat": 4,
 "nbformat_minor": 5
}
