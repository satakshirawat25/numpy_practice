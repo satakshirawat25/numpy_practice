{
 "cells": [
  {
   "cell_type": "markdown",
   "id": "87ef6f91",
   "metadata": {},
   "source": [
    "## Numpy aaray"
   ]
  },
  {
   "cell_type": "markdown",
   "id": "74e69172",
   "metadata": {},
   "source": []
  },
  {
   "cell_type": "code",
   "execution_count": 54,
   "id": "9b06eda6",
   "metadata": {},
   "outputs": [
    {
     "name": "stdout",
     "output_type": "stream",
     "text": [
      "[[0. 0. 0. 0.]\n",
      " [0. 0. 0. 0.]\n",
      " [0. 0. 0. 0.]]\n"
     ]
    }
   ],
   "source": [
    "import numpy as np\n",
    "\n",
    "zeros = np.zeros((3, 4))\n",
    "print(zeros)"
   ]
  },
  {
   "cell_type": "markdown",
   "id": "d5f94e48",
   "metadata": {},
   "source": []
  },
  {
   "cell_type": "code",
   "execution_count": 55,
   "id": "c28d295a",
   "metadata": {},
   "outputs": [
    {
     "name": "stdout",
     "output_type": "stream",
     "text": [
      "[ 1  3  4 56]\n"
     ]
    }
   ],
   "source": [
    "arr_1d = np.array([1,3,4,56])\n",
    "print(arr_1d)"
   ]
  },
  {
   "cell_type": "code",
   "execution_count": 56,
   "id": "262acfd4",
   "metadata": {},
   "outputs": [
    {
     "name": "stdout",
     "output_type": "stream",
     "text": [
      "the pyhton list multiplication is :  [1, 2, 5, 1, 2, 5, 1, 2, 5]\n"
     ]
    }
   ],
   "source": [
    "py_list = [1,2,5]\n",
    "print(\"the pyhton list multiplication is : \" , py_list*3)"
   ]
  },
  {
   "cell_type": "code",
   "execution_count": 57,
   "id": "070daa99",
   "metadata": {},
   "outputs": [
    {
     "name": "stdout",
     "output_type": "stream",
     "text": [
      "the numpy array multiplication is : [ 3 12 15 18]\n"
     ]
    }
   ],
   "source": [
    "np_array = np.array([1,4,5,6])\n",
    "print(\"the numpy array multiplication is :\" , np_array*3)"
   ]
  },
  {
   "cell_type": "code",
   "execution_count": 58,
   "id": "22cc3573",
   "metadata": {},
   "outputs": [
    {
     "name": "stdout",
     "output_type": "stream",
     "text": [
      "[[1. 1. 1. 1.]\n",
      " [1. 1. 1. 1.]\n",
      " [1. 1. 1. 1.]]\n"
     ]
    }
   ],
   "source": [
    "ones = np.ones((3,4))\n",
    "print(ones)"
   ]
  },
  {
   "cell_type": "code",
   "execution_count": 59,
   "id": "104a8087",
   "metadata": {},
   "outputs": [
    {
     "name": "stdout",
     "output_type": "stream",
     "text": [
      "[[0.58228927]\n",
      " [0.77245749]]\n",
      "[2 3]\n"
     ]
    }
   ],
   "source": [
    "random = np.random.random((2,1))\n",
    "print(random)\n",
    "\n",
    "sequence = np.arange(2,4)\n",
    "print(sequence)"
   ]
  },
  {
   "cell_type": "markdown",
   "id": "5447db47",
   "metadata": {},
   "source": []
  },
  {
   "cell_type": "markdown",
   "id": "ce35095b",
   "metadata": {},
   "source": [
    "###vector,matrix and tensor"
   ]
  },
  {
   "cell_type": "code",
   "execution_count": 60,
   "id": "1d19ab95",
   "metadata": {},
   "outputs": [
    {
     "name": "stdout",
     "output_type": "stream",
     "text": [
      "[1 2 3]\n",
      "[[1 2 3]\n",
      " [4 5 6]\n",
      " [7 8 9]]\n"
     ]
    }
   ],
   "source": [
    "vector=np.array([1,2,3])\n",
    "print(vector)\n",
    "\n",
    "matrix= np.array([[1,2,3],[4,5,6],[7,8,9]])\n",
    "print(matrix)\n",
    "\n"
   ]
  },
  {
   "cell_type": "markdown",
   "id": "c1ceb67d",
   "metadata": {},
   "source": [
    "**ARRAY PROPERTIES**"
   ]
  },
  {
   "cell_type": "markdown",
   "id": "15dc4ec5",
   "metadata": {},
   "source": []
  },
  {
   "cell_type": "code",
   "execution_count": null,
   "id": "621b5a37",
   "metadata": {},
   "outputs": [
    {
     "name": "stdout",
     "output_type": "stream",
     "text": [
      "[[1 2 3]\n",
      " [4 5 6]\n",
      " [7 8 9]]\n",
      "size : 9\n",
      "dimension : 2\n",
      "shape:  (3, 3)\n",
      "data type:  int64\n"
     ]
    }
   ],
   "source": [
    "array = np.array([[1,2,3],\n",
    "                  [4,5,6],\n",
    "                  [7,8,9]])\n",
    "print(array)\n",
    "print(\"size :\" , array.size)//total number of elements\n",
    "print(\"dimension :\",array.ndim)\n",
    "print(\"shape: \",array.shape)\n",
    "print(\"data type: \",array.dtype)\n"
   ]
  },
  {
   "cell_type": "markdown",
   "id": "1f5c35ca",
   "metadata": {},
   "source": [
    "***reshaping of array***"
   ]
  },
  {
   "cell_type": "code",
   "execution_count": 69,
   "id": "fe2db152",
   "metadata": {},
   "outputs": [
    {
     "name": "stdout",
     "output_type": "stream",
     "text": [
      "[ 0  1  2  3  4  5  6  7  8  9 10 11 12 13 14]\n",
      "\n",
      "reshape: [[ 0  1  2]\n",
      " [ 3  4  5]\n",
      " [ 6  7  8]\n",
      " [ 9 10 11]\n",
      " [12 13 14]]\n",
      "\n",
      "flatend: [ 0  1  2  3  4  5  6  7  8  9 10 11 12 13 14]\n",
      "\n",
      "raveled: [ 0  1  2  3  4  5  6  7  8  9 10 11 12 13 14]\n",
      "\n",
      "transpose: [[ 0  3  6  9 12]\n",
      " [ 1  4  7 10 13]\n",
      " [ 2  5  8 11 14]]\n"
     ]
    }
   ],
   "source": [
    "arr=np.arange(15)\n",
    "print(arr)\n",
    "\n",
    "reshape = arr.reshape(5,3)\n",
    "print(\"\\nreshape:\", reshape)\n",
    "\n",
    "flattend = reshape.flatten()\n",
    "print(\"\\nflatend:\" , flattend)\n",
    "\n",
    "\n",
    "#ravel(returns view , instead of copy)\n",
    "raveled = reshape.ravel()\n",
    "print(\"\\nraveled:\",raveled)\n",
    "\n",
    "\n",
    "transpose = reshape.T\n",
    "print(\"\\ntranspose:\", transpose)\n"
   ]
  },
  {
   "cell_type": "code",
   "execution_count": null,
   "id": "58af5e16",
   "metadata": {},
   "outputs": [],
   "source": []
  }
 ],
 "metadata": {
  "kernelspec": {
   "display_name": "venv",
   "language": "python",
   "name": "python3"
  },
  "language_info": {
   "codemirror_mode": {
    "name": "ipython",
    "version": 3
   },
   "file_extension": ".py",
   "mimetype": "text/x-python",
   "name": "python",
   "nbconvert_exporter": "python",
   "pygments_lexer": "ipython3",
   "version": "3.13.5"
  }
 },
 "nbformat": 4,
 "nbformat_minor": 5
}
