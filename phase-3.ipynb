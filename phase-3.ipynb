{
 "cells": [
  {
   "cell_type": "markdown",
   "id": "7548f907",
   "metadata": {},
   "source": [
    "**adding and removing element**"
   ]
  },
  {
   "cell_type": "code",
   "execution_count": 1,
   "id": "b05a3553",
   "metadata": {},
   "outputs": [],
   "source": [
    "import numpy as np"
   ]
  },
  {
   "cell_type": "code",
   "execution_count": 3,
   "id": "9a1f267e",
   "metadata": {},
   "outputs": [
    {
     "name": "stdout",
     "output_type": "stream",
     "text": [
      "combined array : [2 4 5 6 3 4 1 5 8 3]\n"
     ]
    }
   ],
   "source": [
    "arr_1 = np.array([2,4,5,6,3])\n",
    "arr_2 = np.array([4,1,5,8,3])\n",
    "combined = np.concatenate((arr_1,arr_2))\n",
    "print(\"combined array :\", combined) "
   ]
  },
  {
   "cell_type": "markdown",
   "id": "5f7b60d5",
   "metadata": {},
   "source": [
    "\n",
    "\n",
    "\n",
    "*******array compatibility*******"
   ]
  },
  {
   "cell_type": "code",
   "execution_count": 6,
   "id": "4b45942b",
   "metadata": {},
   "outputs": [
    {
     "name": "stdout",
     "output_type": "stream",
     "text": [
      "compatibilty test : False\n"
     ]
    }
   ],
   "source": [
    "a= np.array([1,4,55])\n",
    "b= np.array([4,2,5,4])\n",
    "c= np.array([5,6,7])\n",
    "\n",
    "print(\"compatibilty test :\", a.shape == b.shape == c.shape)"
   ]
  },
  {
   "cell_type": "code",
   "execution_count": 9,
   "id": "0a49a807",
   "metadata": {},
   "outputs": [
    {
     "name": "stdout",
     "output_type": "stream",
     "text": [
      "array after adding new row : [[2 3 4]\n",
      " [4 7 6]\n",
      " [2 4 5]]\n",
      "array after adding new column : [[2 3 4 2]\n",
      " [4 7 6 4]]\n"
     ]
    }
   ],
   "source": [
    "original = np.array([[2,3,4],[4,7,6]])\n",
    "new = np.array([2,4,5])\n",
    "\n",
    "with_new_row = np.vstack((original,new))\n",
    "print(\"array after adding new row :\", with_new_row)\n",
    "\n",
    "new_col = np.array([[2],[4]])\n",
    "with_new_col = np.hstack((original,new_col))\n",
    "print(\"array after adding new column :\", with_new_col)"
   ]
  },
  {
   "cell_type": "code",
   "execution_count": 10,
   "id": "5bbb0d19",
   "metadata": {},
   "outputs": [
    {
     "name": "stdout",
     "output_type": "stream",
     "text": [
      "array after deleting element : [1 2 4 5 6]\n"
     ]
    }
   ],
   "source": [
    "arr1 = np.array([1,2,3,4,5,6])\n",
    "deleted_element = np.delete(arr1,2)\n",
    "print(\"array after deleting element :\", deleted_element)"
   ]
  },
  {
   "cell_type": "code",
   "execution_count": null,
   "id": "a58beca9",
   "metadata": {},
   "outputs": [],
   "source": []
  }
 ],
 "metadata": {
  "kernelspec": {
   "display_name": "venv",
   "language": "python",
   "name": "python3"
  },
  "language_info": {
   "codemirror_mode": {
    "name": "ipython",
    "version": 3
   },
   "file_extension": ".py",
   "mimetype": "text/x-python",
   "name": "python",
   "nbconvert_exporter": "python",
   "pygments_lexer": "ipython3",
   "version": "3.13.5"
  }
 },
 "nbformat": 4,
 "nbformat_minor": 5
}
